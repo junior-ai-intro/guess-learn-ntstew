{
 "cells": [
  {
   "cell_type": "markdown",
   "metadata": {},
   "source": [
    "<h1 align = 'center'>Guessing Games</h1>\n",
    "<h3 align = 'center'>machine learning, one step at a time</h3>\n",
    "<h3 align = 'center'>Step 1. The Difference Between Guessing and Learning</h3>"
   ]
  },
  {
   "cell_type": "markdown",
   "metadata": {},
   "source": [
    "#### 1. What is the the difference between guessing and learning?"
   ]
  },
  {
   "cell_type": "markdown",
   "metadata": {},
   "source": [
    "Let's start to explore the difference between *guessing* and *learning*.\n",
    "test\n",
    "Here is an example of *guessing*...\n",
    "\n",
    "If someone flips a coin, and asks you to guess 'heads' or 'tails', you can do one of two things:\n",
    "    1. you can guess 'heads'\n",
    "    2. you can guess 'tails'\n",
    "In Python, that looks like this:"
   ]
  },
  {
   "cell_type": "code",
   "execution_count": 1,
   "metadata": {},
   "outputs": [],
   "source": [
    "# here are two Python functions -- hitting 'Run' will cause the \n",
    "# Python interpreter to load the functions into memory...\n",
    "\n",
    "def guess_heads():\n",
    "    return 'heads'\n",
    "\n",
    "def guess_tails():\n",
    "    return 'tails'"
   ]
  },
  {
   "cell_type": "code",
   "execution_count": 2,
   "metadata": {},
   "outputs": [
    {
     "data": {
      "text/plain": [
       "'heads'"
      ]
     },
     "execution_count": 2,
     "metadata": {},
     "output_type": "execute_result"
    }
   ],
   "source": [
    "#... and actually calling the functions will cause each on to run.\n",
    "\n",
    "guess_heads()"
   ]
  },
  {
   "cell_type": "code",
   "execution_count": 3,
   "metadata": {},
   "outputs": [
    {
     "data": {
      "text/plain": [
       "'tails'"
      ]
     },
     "execution_count": 3,
     "metadata": {},
     "output_type": "execute_result"
    }
   ],
   "source": [
    "guess_tails()"
   ]
  },
  {
   "cell_type": "markdown",
   "metadata": {},
   "source": [
    "To flip a coin, you might do something like this:"
   ]
  },
  {
   "cell_type": "code",
   "execution_count": 4,
   "metadata": {},
   "outputs": [
    {
     "data": {
      "text/plain": [
       "'tails'"
      ]
     },
     "execution_count": 4,
     "metadata": {},
     "output_type": "execute_result"
    }
   ],
   "source": [
    "import random                   # get all the random number stuff that we might need\n",
    "\n",
    "def flip():                     # make a function to flip a coin, 50/50 for heads or tails\n",
    "    if random.random() < .5:    # random.random() returns a random number from 0 to 1\n",
    "        return 'heads'\n",
    "    else:\n",
    "        return 'tails'\n",
    "    \n",
    "flip()                          # flip the coin"
   ]
  },
  {
   "cell_type": "markdown",
   "metadata": {},
   "source": [
    "To flip a coin ten times, it's something like this:"
   ]
  },
  {
   "cell_type": "code",
   "execution_count": 5,
   "metadata": {},
   "outputs": [
    {
     "name": "stdout",
     "output_type": "stream",
     "text": [
      "0 heads\n",
      "1 tails\n",
      "2 tails\n",
      "3 heads\n",
      "4 heads\n",
      "5 tails\n",
      "6 heads\n",
      "7 tails\n",
      "8 heads\n",
      "9 tails\n"
     ]
    }
   ],
   "source": [
    "for i in range(10):\n",
    "    print(i, flip())"
   ]
  },
  {
   "cell_type": "markdown",
   "metadata": {},
   "source": [
    "...and to guess, it would be something like this:"
   ]
  },
  {
   "cell_type": "code",
   "execution_count": 6,
   "metadata": {},
   "outputs": [
    {
     "data": {
      "text/plain": [
       "'tails'"
      ]
     },
     "execution_count": 6,
     "metadata": {},
     "output_type": "execute_result"
    }
   ],
   "source": [
    "def guess():\n",
    "    if random.random() < .5:\n",
    "        return guess_heads()\n",
    "    else:\n",
    "        return guess_tails()\n",
    "    \n",
    "guess()"
   ]
  },
  {
   "cell_type": "markdown",
   "metadata": {},
   "source": [
    "To guess ten times, try this:"
   ]
  },
  {
   "cell_type": "code",
   "execution_count": 7,
   "metadata": {},
   "outputs": [
    {
     "name": "stdout",
     "output_type": "stream",
     "text": [
      "flip  guess result\n",
      "===== ===== ======\n",
      "heads tails wrong!\n",
      "heads tails wrong!\n",
      "tails heads wrong!\n",
      "tails tails right!\n",
      "tails heads wrong!\n",
      "heads heads right!\n",
      "tails heads wrong!\n",
      "heads heads right!\n",
      "tails tails right!\n",
      "heads heads right!\n"
     ]
    }
   ],
   "source": [
    "print('flip  guess result')\n",
    "print('===== ===== ======')\n",
    "for i in range(10):\n",
    "    f = flip()\n",
    "    g = guess()\n",
    "    if f == g:\n",
    "        print(f, g, 'right!')\n",
    "    else:\n",
    "        print(f, g, 'wrong!')"
   ]
  },
  {
   "cell_type": "markdown",
   "metadata": {},
   "source": [
    "And to guess 10,000 times, try this:"
   ]
  },
  {
   "cell_type": "code",
   "execution_count": 8,
   "metadata": {},
   "outputs": [
    {
     "name": "stdout",
     "output_type": "stream",
     "text": [
      "4893 correct out of  10000 success rate= 48.93 %\n"
     ]
    }
   ],
   "source": [
    "right = 0\n",
    "total = 10000\n",
    "for i in range(total):\n",
    "    f = flip()\n",
    "    g = guess()\n",
    "    if f == g:\n",
    "        right += 1\n",
    "print(right,'correct out of ', total, 'success rate=',right*100/total,'%')"
   ]
  },
  {
   "cell_type": "markdown",
   "metadata": {},
   "source": [
    "**Now here is a question: if you are flipping a coin more than once, can anything be learned about the next flip from any prior flip?**\n",
    "\n",
    "And here is the answer: *no*.\n",
    "\n",
    "The coin only has two sides. That means that whether your guess is right or wrong, your learn everything that you can possibly know when the coin is flipped. That's why people flip coins... once it's over, there is nothing else to know.\n",
    "\n",
    "So what is the difference between **guessing** and **learning**?\n",
    "\n",
    "**Learning** involves making a series of ever-better-informed guesses. All of the information about a coin toss is available the second the coin hits the ground... there is no way to learn from mistakes.\n",
    "\n",
    "Let's look at some other guessing games, to figure out when and how to learn from mistakes."
   ]
  },
  {
   "cell_type": "markdown",
   "metadata": {},
   "source": [
    "<hr>\n",
    "\n",
    "***Exercises***\n",
    "\n",
    "<p>(1) Flip a coin 100,000 times. Count the longest streak of heads (a 'streak' is when the same result occurs more than one time successively, so heads-heads-heads-tails-tails-heads has a streak-of-heads = 3 and a streak-of-tails = 2."
   ]
  },
  {
   "cell_type": "code",
   "execution_count": 9,
   "metadata": {},
   "outputs": [],
   "source": [
    "# your code goes here"
   ]
  },
  {
   "cell_type": "markdown",
   "metadata": {},
   "source": [
    "**(2) Flip a coin 100,000 times. Count the longest streak of heads and the longest streak of tails. Return both values.**"
   ]
  },
  {
   "cell_type": "code",
   "execution_count": 26,
   "metadata": {},
   "outputs": [
    {
     "name": "stdout",
     "output_type": "stream",
     "text": [
      "Maximum streak of tails:  16\n",
      "Maximum streak of heads:  17\n"
     ]
    }
   ],
   "source": [
    "# useful hint... delete this example, or put your code after it\n",
    "\n",
    "# did you know that a python function can return more than one value?\n",
    "right = 0\n",
    "total = 100000\n",
    "hstreak = 0\n",
    "tstreak = 0\n",
    "hhigh = []\n",
    "thigh = []\n",
    "for i in range (total):\n",
    "    f = flip()\n",
    "    if f == 'heads':\n",
    "        hstreak = hstreak + 1\n",
    "        hhigh.append(hstreak)\n",
    "        tstreak = 0\n",
    "    if f == 'tails':\n",
    "        tstreak = tstreak + 1\n",
    "        thigh.append(tstreak)\n",
    "        hstreak = 0\n",
    "            \n",
    "print('Maximum streak of tails: ', max(thigh))\n",
    "print('Maximum streak of heads: ', max(hhigh))"
   ]
  },
  {
   "cell_type": "markdown",
   "metadata": {},
   "source": [
    "**(3) How many times do you need to flip a coin to get 16 heads or tails in a row?**"
   ]
  },
  {
   "cell_type": "code",
   "execution_count": 13,
   "metadata": {},
   "outputs": [
    {
     "name": "stdout",
     "output_type": "stream",
     "text": [
      "We got a streak of 16 heads! It only took  33737  flips!\n",
      "The heads streak was  16  and the tails streak was  0\n"
     ]
    }
   ],
   "source": [
    "import random\n",
    "def flip():                     # make a function to flip a coin, 50/50 for heads or tails\n",
    "    if random.random() < .5:    # random.random() returns a random number from 0 to 1\n",
    "        return 'heads'\n",
    "    else:\n",
    "        return 'tails'\n",
    "hstreak = 0\n",
    "tstreak = 0\n",
    "times = 0\n",
    "stop = 0\n",
    "# your code goes here\n",
    "while stop == 0:\n",
    "    times = times + 1\n",
    "    f = flip()\n",
    "    if f == 'heads':\n",
    "        hstreak = hstreak + 1\n",
    "        tstreak = 0\n",
    "    if f == 'tails':\n",
    "        tstreak = tstreak + 1\n",
    "        hstreak = 0\n",
    "    if hstreak == 16:\n",
    "        stop = 1\n",
    "    if tstreak == 16:\n",
    "        stop = 1\n",
    "print('We got a streak of 16 heads! It only took ', times, ' flips!')\n",
    "print('The heads streak was ', hstreak, ' and the tails streak was ', tstreak)\n",
    "        "
   ]
  },
  {
   "cell_type": "code",
   "execution_count": null,
   "metadata": {},
   "outputs": [],
   "source": []
  },
  {
   "cell_type": "code",
   "execution_count": null,
   "metadata": {},
   "outputs": [],
   "source": []
  }
 ],
 "metadata": {
  "kernelspec": {
   "display_name": "Python 3",
   "language": "python",
   "name": "python3"
  },
  "language_info": {
   "codemirror_mode": {
    "name": "ipython",
    "version": 3
   },
   "file_extension": ".py",
   "mimetype": "text/x-python",
   "name": "python",
   "nbconvert_exporter": "python",
   "pygments_lexer": "ipython3",
   "version": "3.6.8"
  }
 },
 "nbformat": 4,
 "nbformat_minor": 2
}
